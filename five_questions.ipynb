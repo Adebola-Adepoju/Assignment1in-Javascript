{
  "nbformat": 4,
  "nbformat_minor": 0,
  "metadata": {
    "colab": {
      "provenance": [],
      "authorship_tag": "ABX9TyOqbQ9N9RyIYTLGwDUr+j9/",
      "include_colab_link": true
    },
    "kernelspec": {
      "name": "python3",
      "display_name": "Python 3"
    },
    "language_info": {
      "name": "python"
    }
  },
  "cells": [
    {
      "cell_type": "markdown",
      "metadata": {
        "id": "view-in-github",
        "colab_type": "text"
      },
      "source": [
        "<a href=\"https://colab.research.google.com/github/Adebola-Adepoju/Assignment1in-Javascript/blob/main/five_questions.ipynb\" target=\"_parent\"><img src=\"https://colab.research.google.com/assets/colab-badge.svg\" alt=\"Open In Colab\"/></a>"
      ]
    },
    {
      "cell_type": "code",
      "execution_count": null,
      "metadata": {
        "id": "8fxBdKP6Ty67"
      },
      "outputs": [],
      "source": [
        "# Step 1: List of questions and answers\n",
        "questions = [\n",
        "    {\"question\": \"What is the capital of France?\", \"answer\": \"Paris\"},\n",
        "    {\"question\": \"What is the chemical symbol for water?\", \"answer\": \"H2O\"},\n",
        "    {\"question\": \"What programming language is this quiz written in?\", \"answer\": \"Python\"},\n",
        "    {\"question\": \"How many continents are there on Earth?\", \"answer\": \"7\", \"answer\": \"seven\"},\n",
        "    {\"question\": \"What year did the first man land on the moon?\", \"answer\": \"1969\"}\n",
        "]\n",
        "\n",
        "# Step 2: Start the score at 0\n",
        "score = 0\n",
        "\n",
        "# Step 3: Ask each question\n",
        "for q in questions:\n",
        "    # Ask the user\n",
        "    user_answer = input(q[\"question\"] + \" \")\n",
        "\n",
        "    # Check if the answer is correct\n",
        "    if user_answer.strip().lower() == q[\"answer\"].lower():\n",
        "        print(\"Correct! \\n\")\n",
        "        score += 1\n",
        "    else:\n",
        "        print(\"Wrong . The correct answer was:\", q[\"answer\"], \"\\n\")\n",
        "\n",
        "# Step 4: Show the score\n",
        "print(\"Quiz finished! \")\n",
        "print(\"Your score is:\", score, \"out of\", len(questions))\n"
      ]
    }
  ]
}